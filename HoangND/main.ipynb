{
 "cells": [
  {
   "cell_type": "code",
   "execution_count": 544,
   "metadata": {},
   "outputs": [],
   "source": [
    "import numpy as np\n",
    "import tifffile as tiff\n",
    "from PIL import Image\n",
    "import matplotlib.pyplot as plt\n",
    "import copy"
   ]
  },
  {
   "cell_type": "code",
   "execution_count": 545,
   "metadata": {},
   "outputs": [],
   "source": [
    "N=10\n",
    "M=10\n",
    "K=1000"
   ]
  },
  {
   "cell_type": "code",
   "execution_count": 546,
   "metadata": {},
   "outputs": [],
   "source": [
    "steps = [\n",
    "                        (-1,-1),(0,-1),(1,-1),\n",
    "                        (-1, 0),       (1, 0),\n",
    "                        (-1, 1),(0, 1),(1, 1),\n",
    "                    ]\n",
    "sign_matrix = np.array([[-1]*N]*N)"
   ]
  },
  {
   "cell_type": "code",
   "execution_count": 547,
   "metadata": {},
   "outputs": [
    {
     "data": {
      "text/plain": [
       "array([[  14,   14,   14, ...,    0,    0,    0],\n",
       "       [  14,   14,   14, ...,    0,    0,    0],\n",
       "       [  14,   14,   14, ...,    0,    0,    0],\n",
       "       ...,\n",
       "       [1190, 1190, 1190, ..., 1203, 1203, 1203],\n",
       "       [1190, 1190, 1190, ..., 1203, 1203, 1203],\n",
       "       [1190, 1190, 1190, ..., 1203, 1203, 1203]], dtype=uint16)"
      ]
     },
     "execution_count": 547,
     "metadata": {},
     "output_type": "execute_result"
    }
   ],
   "source": [
    "a = tiff.imread('./data/02.tif')\n",
    "a"
   ]
  },
  {
   "cell_type": "code",
   "execution_count": 548,
   "metadata": {},
   "outputs": [],
   "source": [
    "a = [[0, 0, 0, 0, 0, 0, 0, 0, 0, 0],\n",
    " [0, 1, 1, 0, 0, 0, 0, 0, 0, 0],\n",
    " [0, 1, 1, 0, 0, 0, 0, 0, 0, 0],\n",
    " [0, 0, 0, 0, 0, 0, 0, 0, 0, 0],\n",
    " [0, 0, 0, 0, 0, 0, 0, 0, 0, 0],\n",
    " [0, 0, 3, 0, 0, 0, 0, 0, 0, 0],\n",
    " [0, 0, 0, 0, 0, 0, 0, 0, 0, 0],\n",
    " [0, 0, 0, 0, 0, 0, 0, 0, 0, 0],\n",
    " [0, 0, 0, 0, 0, 0, 0, 0, 2, 0],\n",
    " [0, 0, 0, 0, 0, 0, 0, 0, 0, 0]]"
   ]
  },
  {
   "cell_type": "code",
   "execution_count": 549,
   "metadata": {},
   "outputs": [],
   "source": [
    "raw = copy.deepcopy(a)"
   ]
  },
  {
   "cell_type": "code",
   "execution_count": 550,
   "metadata": {},
   "outputs": [],
   "source": [
    "def valid(x,y):\n",
    "    if x<0 or y<0: return False\n",
    "    if x>N-1 or y>M-1: return False\n",
    "    return True\n",
    "#find related area\n",
    "def related_area(x,y ,values=False):\n",
    "    q=([(x,y)])\n",
    "    sign_matrix[x][y]=0\n",
    "    result = ([(x,y)])\n",
    "    while q:\n",
    "        (x,y) = q.pop(0)\n",
    "        for (dx,dy) in steps:\n",
    "            nx=x+dx\n",
    "            ny=y+dy\n",
    "            if (valid(nx,ny)==False): continue\n",
    "            if (sign_matrix[nx][ny]==-1)and(a[nx][ny]==values):\n",
    "                sign_matrix[nx][ny]=0\n",
    "                q.append((nx,ny))\n",
    "                #result.append((nx,ny))\n",
    "                for (xn,yn) in steps:\n",
    "                    nnx=nx+xn\n",
    "                    nny=ny+yn\n",
    "                    try:\n",
    "                        if a[nnx][nny]==0:\n",
    "                            result.append((nx,ny))\n",
    "                            break\n",
    "                    except: \n",
    "                        result.append((nx,ny))\n",
    "                        break\n",
    "\n",
    "    return result\n",
    "def bfs(q,step):\n",
    "    result = ([()])\n",
    "    while q:\n",
    "        (x,y) = q.pop(0)\n",
    "        if (a[x][y]==0): print(False)\n",
    "        if sign_matrix[x][y]==-2:\n",
    "            a[x][y]=-1\n",
    "            continue\n",
    "        for (dx,dy) in steps:\n",
    "            nx=x+dx\n",
    "            ny=y+dy\n",
    "            if (not valid(nx,ny)): continue\n",
    "            if sign_matrix[nx][ny]==-2 or sign_matrix[nx][ny]==0: continue\n",
    "            elif sign_matrix[nx][ny]==-1:\n",
    "                sign_matrix[nx][ny]=step\n",
    "                a[nx][ny]=a[x][y]\n",
    "                result.append((nx,ny)) \n",
    "            else:\n",
    "                if sign_matrix[nx][ny]!=step: continue\n",
    "                if a[nx][ny]!=a[x][y]:\n",
    "                    sign_matrix[nx][ny]=-2\n",
    "                    \n",
    "    result.pop(0)\n",
    "    return result"
   ]
  },
  {
   "cell_type": "code",
   "execution_count": 551,
   "metadata": {},
   "outputs": [
    {
     "name": "stdout",
     "output_type": "stream",
     "text": [
      "5\n",
      "[[-1 -1 -1 -1 -1 -1 -1 -1 -1 -1]\n",
      " [-1  0  0 -1 -1 -1 -1 -1 -1 -1]\n",
      " [-1  0  0 -1 -1 -1 -1 -1 -1 -1]\n",
      " [-1 -1 -1 -1 -1 -1 -1 -1 -1 -1]\n",
      " [-1 -1 -1 -1 -1 -1 -1 -1 -1 -1]\n",
      " [-1 -1 -1 -1 -1 -1 -1 -1 -1 -1]\n",
      " [-1 -1 -1 -1 -1 -1 -1 -1 -1 -1]\n",
      " [-1 -1 -1 -1 -1 -1 -1 -1 -1 -1]\n",
      " [-1 -1 -1 -1 -1 -1 -1 -1  0 -1]\n",
      " [-1 -1 -1 -1 -1 -1 -1 -1 -1 -1]]\n"
     ]
    }
   ],
   "source": [
    "q=([()])\n",
    "for i in range(0,N):\n",
    "    for j in range(0,M):\n",
    "        if (sign_matrix[i][j]==-1) and (a[i][j]!=0):\n",
    "                q.append(related_area(i,j,a[i][j]))\n",
    "print(np.sum([len(q[i]) for i in range(len(q))]))\n",
    "q.pop(0)\n",
    "print(sign_matrix)"
   ]
  },
  {
   "cell_type": "code",
   "execution_count": 552,
   "metadata": {},
   "outputs": [
    {
     "data": {
      "text/plain": [
       "array([[-1, -1, -1, -1, -1, -1, -1, -1, -1, -1],\n",
       "       [-1,  0,  0, -1, -1, -1, -1, -1, -1, -1],\n",
       "       [-1,  0,  0, -1, -1, -1, -1, -1, -1, -1],\n",
       "       [-1, -1, -1, -1, -1, -1, -1, -1, -1, -1],\n",
       "       [-1, -1, -1, -1, -1, -1, -1, -1, -1, -1],\n",
       "       [-1, -1, -1, -1, -1, -1, -1, -1, -1, -1],\n",
       "       [-1, -1, -1, -1, -1, -1, -1, -1, -1, -1],\n",
       "       [-1, -1, -1, -1, -1, -1, -1, -1, -1, -1],\n",
       "       [-1, -1, -1, -1, -1, -1, -1, -1,  0, -1],\n",
       "       [-1, -1, -1, -1, -1, -1, -1, -1, -1, -1]])"
      ]
     },
     "execution_count": 552,
     "metadata": {},
     "output_type": "execute_result"
    }
   ],
   "source": [
    "sign_matrix = np.array(sign_matrix)\n",
    "sign_matrix"
   ]
  },
  {
   "cell_type": "code",
   "execution_count": 553,
   "metadata": {},
   "outputs": [
    {
     "name": "stdout",
     "output_type": "stream",
     "text": [
      "1 75\n",
      "2 59\n",
      "3 40\n",
      "4 24\n",
      "5 12\n",
      "6 4\n",
      "7 0\n"
     ]
    }
   ],
   "source": [
    "count = 1\n",
    "while count<=K+1:\n",
    "    res=([()])\n",
    "    while q:\n",
    "        p=q.pop(0)\n",
    "        res.append(bfs(p,count))\n",
    "    res.pop(0)\n",
    "    q=res;\n",
    "    \n",
    "    if count>=54:\n",
    "        b=a[220:225,510:520]\n",
    "        print(b)\n",
    "        c=sign_matrix[220:225,510:520]\n",
    "        print(c)\n",
    "    while q and len(q[0])==0: q.pop(0)\n",
    "    if not q:\n",
    "        break\n",
    "    print(count, len(sign_matrix[sign_matrix==-1]==True))\n",
    "    count+=1"
   ]
  },
  {
   "cell_type": "code",
   "execution_count": 554,
   "metadata": {},
   "outputs": [
    {
     "data": {
      "image/png": "[encoded data removed]",
      "text/plain": [
       "<Figure size 640x480 with 1 Axes>"
      ]
     },
     "metadata": {},
     "output_type": "display_data"
    }
   ],
   "source": [
    "plt.imshow(raw)\n",
    "plt.show()"
   ]
  },
  {
   "cell_type": "code",
   "execution_count": 555,
   "metadata": {},
   "outputs": [],
   "source": [
    "mat= np.matrix(raw)\n",
    "mat\n",
    "with open('input.txt','wb') as f:\n",
    "    for line in mat:\n",
    "        np.savetxt(f, line, fmt='%3d')"
   ]
  },
  {
   "cell_type": "code",
   "execution_count": 560,
   "metadata": {},
   "outputs": [],
   "source": [
    "a = np.array(a)\n",
    "a[a==65535]=0\n",
    "a[a==-1]=0\n",
    "mat= np.matrix(a)\n",
    "mat\n",
    "with open('hoang.txt','wb') as f:\n",
    "    for line in mat:\n",
    "        np.savetxt(f, line, fmt='%3d')"
   ]
  },
  {
   "cell_type": "code",
   "execution_count": 557,
   "metadata": {},
   "outputs": [
    {
     "data": {
      "image/png": "[encoded data removed]",
      "text/plain": [
       "<Figure size 640x480 with 1 Axes>"
      ]
     },
     "metadata": {},
     "output_type": "display_data"
    },
    {
     "data": {
      "image/png": "[encoded data removed]",
      "text/plain": [
       "<Figure size 640x480 with 1 Axes>"
      ]
     },
     "metadata": {},
     "output_type": "display_data"
    }
   ],
   "source": [
    "plt.imshow(raw)\n",
    "plt.show()\n",
    "\n",
    "plt.imshow(a)\n",
    "plt.show()"
   ]
  },
  {
   "cell_type": "code",
   "execution_count": 558,
   "metadata": {},
   "outputs": [
    {
     "data": {
      "image/png": "[encoded data removed]",
      "text/plain": [
       "<Figure size 640x480 with 1 Axes>"
      ]
     },
     "metadata": {},
     "output_type": "display_data"
    }
   ],
   "source": [
    "cp = np.array([[0]*N]*N)\n",
    "for i in range(N):\n",
    "  for j in range(N):\n",
    "    if raw[i][j] == a[i][j]:\n",
    "      cp[i][j] = 1\n",
    "    else:\n",
    "      cp[i][j] = 3000\n",
    "plt.imshow(cp)\n",
    "plt.show()"
   ]
  }
 ],
 "metadata": {
  "kernelspec": {
   "display_name": "Python 3.10.4 64-bit",
   "language": "python",
   "name": "python3"
  },
  "language_info": {
   "codemirror_mode": {
    "name": "ipython",
    "version": 3
   },
   "file_extension": ".py",
   "mimetype": "text/x-python",
   "name": "python",
   "nbconvert_exporter": "python",
   "pygments_lexer": "ipython3",
   "version": "3.10.4"
  },
  "orig_nbformat": 4,
  "vscode": {
   "interpreter": {
    "hash": "d3e10ef16274dd72e574b8fa73b58450b957d8421a2901baded3cca26fcf5dda"
   }
  }
 },
 "nbformat": 4,
 "nbformat_minor": 2
}
