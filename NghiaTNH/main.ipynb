{
 "cells": [
  {
   "cell_type": "code",
   "execution_count": 1,
   "metadata": {},
   "outputs": [
    {
     "name": "stdout",
     "output_type": "stream",
     "text": [
      "[[1.000e+00 1.000e+00 1.000e+00 ... 4.137e+03 4.137e+03 4.137e+03]\n",
      " [1.000e+00 1.000e+00 1.000e+00 ... 4.137e+03 4.137e+03 4.137e+03]\n",
      " [1.000e+00 1.000e+00 1.000e+00 ... 4.137e+03 4.137e+03 4.137e+03]\n",
      " ...\n",
      " [1.098e+03 1.098e+03 1.098e+03 ... 9.340e+02 9.340e+02 9.340e+02]\n",
      " [1.098e+03 1.098e+03 1.098e+03 ... 9.340e+02 9.340e+02 9.340e+02]\n",
      " [1.098e+03 1.098e+03 1.098e+03 ... 9.340e+02 9.340e+02 9.340e+02]]\n",
      "[[1.000e+00 1.000e+00 1.000e+00 ... 4.137e+03 4.137e+03 4.137e+03]\n",
      " [1.000e+00 1.000e+00 1.000e+00 ... 4.137e+03 4.137e+03 4.137e+03]\n",
      " [1.000e+00 1.000e+00 1.000e+00 ... 4.137e+03 4.137e+03 4.137e+03]\n",
      " ...\n",
      " [1.098e+03 1.098e+03 1.098e+03 ... 9.340e+02 9.340e+02 9.340e+02]\n",
      " [1.098e+03 1.098e+03 1.098e+03 ... 9.340e+02 9.340e+02 9.340e+02]\n",
      " [1.098e+03 1.098e+03 1.098e+03 ... 9.340e+02 9.340e+02 9.340e+02]]\n",
      "[[1.000e+00 1.000e+00 1.000e+00 ... 4.137e+03 4.137e+03 4.137e+03]\n",
      " [1.000e+00 1.000e+00 1.000e+00 ... 4.137e+03 4.137e+03 4.137e+03]\n",
      " [1.000e+00 1.000e+00 1.000e+00 ... 4.137e+03 4.137e+03 4.137e+03]\n",
      " ...\n",
      " [1.098e+03 1.098e+03 1.098e+03 ... 9.340e+02 9.340e+02 9.340e+02]\n",
      " [1.098e+03 1.098e+03 1.098e+03 ... 9.340e+02 9.340e+02 9.340e+02]\n",
      " [1.098e+03 1.098e+03 1.098e+03 ... 9.340e+02 9.340e+02 9.340e+02]]\n"
     ]
    }
   ],
   "source": [
    "import numpy as np\n",
    "hoangtxt = np.loadtxt('./output_hoang.txt')\n",
    "print(hoangtxt)\n",
    "nghiatxt = np.loadtxt('./output_nghia.txt')\n",
    "print(nghiatxt)\n",
    "nhattxt = np.loadtxt('./output_nhat.txt')\n",
    "print(nghiatxt)"
   ]
  },
  {
   "cell_type": "code",
   "execution_count": 2,
   "metadata": {},
   "outputs": [
    {
     "name": "stdout",
     "output_type": "stream",
     "text": [
      "hoang - nhat (array([ True]), array([1000000]))\n",
      "nghia - nhat (array([ True]), array([1000000]))\n",
      "nghia - hoang (array([ True]), array([1000000]))\n"
     ]
    }
   ],
   "source": [
    "TF: np.ndarray = hoangtxt == nhattxt\n",
    "print('hoang - nhat', np.unique(TF, return_counts=True))\n",
    "TF: np.ndarray = nghiatxt == nhattxt\n",
    "print('nghia - nhat', np.unique(TF, return_counts=True))\n",
    "TF: np.ndarray = nghiatxt == hoangtxt\n",
    "print('nghia - hoang', np.unique(TF, return_counts=True))"
   ]
  },
  {
   "cell_type": "code",
   "execution_count": 3,
   "metadata": {},
   "outputs": [
    {
     "name": "stdout",
     "output_type": "stream",
     "text": [
      "9354\n",
      "9354\n",
      "9354\n"
     ]
    }
   ],
   "source": [
    "number, count = np.unique(nghiatxt, return_counts=True)\n",
    "print(count[0])\n",
    "number, count = np.unique(hoangtxt, return_counts=True)\n",
    "print(count[0])\n",
    "number, count = np.unique(nhattxt, return_counts=True)\n",
    "print(count[0])"
   ]
  },
  {
   "cell_type": "code",
   "execution_count": 4,
   "metadata": {},
   "outputs": [],
   "source": [
    "rows, cols = np.where(np.array(nhattxt == nghiatxt) == False)"
   ]
  },
  {
   "cell_type": "code",
   "execution_count": 5,
   "metadata": {},
   "outputs": [],
   "source": [
    "for i in range(rows.size):\n",
    "    print(f'{rows[i]} - {cols[i]}')\n",
    "    # print(f'hoang - nghia: {hoangtxt[rows[i],cols[i]]} - {nghiatxt[rows[i],cols[i]]}')"
   ]
  },
  {
   "cell_type": "code",
   "execution_count": 6,
   "metadata": {},
   "outputs": [
    {
     "data": {
      "text/plain": [
       "array([[4.134e+03, 4.134e+03, 4.134e+03, 0.000e+00, 3.000e+00],\n",
       "       [4.134e+03, 4.134e+03, 4.134e+03, 4.134e+03, 3.000e+00],\n",
       "       [4.134e+03, 4.134e+03, 4.134e+03, 4.134e+03, 3.000e+00],\n",
       "       [4.134e+03, 4.134e+03, 4.134e+03, 4.134e+03, 3.000e+00],\n",
       "       [4.134e+03, 4.134e+03, 4.134e+03, 4.134e+03, 3.000e+00],\n",
       "       [4.134e+03, 4.134e+03, 4.134e+03, 4.134e+03, 3.000e+00],\n",
       "       [4.134e+03, 4.134e+03, 4.134e+03, 4.134e+03, 3.000e+00],\n",
       "       [4.134e+03, 4.134e+03, 4.134e+03, 4.134e+03, 3.000e+00],\n",
       "       [4.134e+03, 4.134e+03, 4.134e+03, 4.134e+03, 3.000e+00],\n",
       "       [4.134e+03, 4.134e+03, 4.134e+03, 4.134e+03, 3.000e+00]])"
      ]
     },
     "execution_count": 6,
     "metadata": {},
     "output_type": "execute_result"
    }
   ],
   "source": [
    "nhattxt[0:10,385:390]"
   ]
  },
  {
   "cell_type": "code",
   "execution_count": 7,
   "metadata": {},
   "outputs": [
    {
     "data": {
      "text/plain": [
       "array([[4.134e+03, 4.134e+03, 4.134e+03, 0.000e+00, 3.000e+00],\n",
       "       [4.134e+03, 4.134e+03, 4.134e+03, 4.134e+03, 3.000e+00],\n",
       "       [4.134e+03, 4.134e+03, 4.134e+03, 4.134e+03, 3.000e+00],\n",
       "       [4.134e+03, 4.134e+03, 4.134e+03, 4.134e+03, 3.000e+00],\n",
       "       [4.134e+03, 4.134e+03, 4.134e+03, 4.134e+03, 3.000e+00],\n",
       "       [4.134e+03, 4.134e+03, 4.134e+03, 4.134e+03, 3.000e+00],\n",
       "       [4.134e+03, 4.134e+03, 4.134e+03, 4.134e+03, 3.000e+00],\n",
       "       [4.134e+03, 4.134e+03, 4.134e+03, 4.134e+03, 3.000e+00],\n",
       "       [4.134e+03, 4.134e+03, 4.134e+03, 4.134e+03, 3.000e+00],\n",
       "       [4.134e+03, 4.134e+03, 4.134e+03, 4.134e+03, 3.000e+00]])"
      ]
     },
     "execution_count": 7,
     "metadata": {},
     "output_type": "execute_result"
    }
   ],
   "source": [
    "nghiatxt[0:10,385:390]"
   ]
  }
 ],
 "metadata": {
  "kernelspec": {
   "display_name": "Python 3.8.8 ('base')",
   "language": "python",
   "name": "python3"
  },
  "language_info": {
   "codemirror_mode": {
    "name": "ipython",
    "version": 3
   },
   "file_extension": ".py",
   "mimetype": "text/x-python",
   "name": "python",
   "nbconvert_exporter": "python",
   "pygments_lexer": "ipython3",
   "version": "3.8.8"
  },
  "orig_nbformat": 4,
  "vscode": {
   "interpreter": {
    "hash": "f0cbc8d39e2c910eff8684fa9a53892924e930afdeb920b71e62694c678fa8d0"
   }
  }
 },
 "nbformat": 4,
 "nbformat_minor": 2
}
